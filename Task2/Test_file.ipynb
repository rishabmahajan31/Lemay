{
 "cells": [
  {
   "attachments": {},
   "cell_type": "markdown",
   "id": "395ada93",
   "metadata": {},
   "source": [
    "## DEMONSTRATION"
   ]
  },
  {
   "cell_type": "code",
   "execution_count": 1,
   "id": "32b68eea",
   "metadata": {},
   "outputs": [],
   "source": [
    "import requests\n",
    "import json"
   ]
  },
  {
   "cell_type": "code",
   "execution_count": 5,
   "id": "03e79d7a",
   "metadata": {},
   "outputs": [],
   "source": [
    "# url = \"http://127.0.0.1/classification\"\n",
    "# url = \"http://localhost/classification\""
   ]
  },
  {
   "cell_type": "code",
   "execution_count": 6,
   "id": "31c53991",
   "metadata": {},
   "outputs": [
    {
     "name": "stdout",
     "output_type": "stream",
     "text": [
      "No                                     Completed at\n",
      "1                                             0.55s\n",
      "{'text': 'kitna pyara kutta hai'}\n",
      "[{'label': 'hi', 'score': 0.9223765730857849}]\n",
      "2                                             0.69s\n",
      "{'text': 'hadha kalb latif'}\n",
      "[{'label': 'tr', 'score': 0.8960250616073608}]\n",
      "0                                             0.75s\n",
      "{'text': 'Hello, my dog is cute'}\n",
      "[{'label': 'en', 'score': 0.9880406260490417}]\n",
      "3                                             0.95s\n",
      "{'text': 'takaya milaya sobaka'}\n",
      "[{'label': 'sw', 'score': 0.697541356086731}]\n",
      "7                                             1.12s\n",
      "{'text': 'I am scared'}\n",
      "[{'label': 'en', 'score': 0.9874289631843567}]\n",
      "5                                             1.38s\n",
      "{'text': 'un cane così carino'}\n",
      "[{'label': 'it', 'score': 0.9948880076408386}]\n",
      "4                                             1.41s\n",
      "{'text': 'Hello, my dog is cute'}\n",
      "[{'label': 'en', 'score': 0.9880406260490417}]\n",
      "6                                             1.66s\n",
      "{'text': 'um cachorro tão fofo'}\n",
      "[{'label': 'pt', 'score': 0.9917157292366028}]\n",
      "8                                             1.67s\n",
      "{'text': 'Hello, my dog is cute'}\n",
      "[{'label': 'en', 'score': 0.9880406260490417}]\n",
      "9                                             1.76s\n",
      "{'text': 'I am scared'}\n",
      "[{'label': 'en', 'score': 0.9874289631843567}]\n"
     ]
    }
   ],
   "source": [
    "import requests\n",
    "import asyncio\n",
    "from timeit import default_timer\n",
    "from concurrent.futures import ThreadPoolExecutor\n",
    "\n",
    "START_TIME = default_timer()\n",
    "\n",
    "def request(session, i, params):\n",
    "    url = \"http://localhost/classification\"\n",
    "    with session.get(url, params = params) as response:\n",
    "        \n",
    "        data = response.json()\n",
    "\n",
    "        if response.status_code != 200:\n",
    "            print(\"FAILURE::{0}\".format(url))\n",
    "\n",
    "        elapsed_time = default_timer() - START_TIME\n",
    "        completed_at = \"{:5.2f}s\".format(elapsed_time)\n",
    "        print(\"{0:<30} {1:>20}\".format(i, completed_at))\n",
    "        print(params)\n",
    "        print(data)\n",
    "\n",
    "async def start_async_process():\n",
    "    params = [{'text': 'Hello, my dog is cute'},{'text': 'kitna pyara kutta hai' },{'text': 'hadha kalb latif'},{'text': 'takaya milaya sobaka' },{'text': 'Hello, my dog is cute'},\n",
    "    {'text': 'un cane così carino' },{'text': 'um cachorro tão fofo'},{'text': 'I am scared' },{'text': 'Hello, my dog is cute'},{'text': 'I am scared' }]\n",
    "    i = 0\n",
    "    print(\"{0:<30} {1:>20}\".format(\"No\", \"Completed at\"))\n",
    "    with ThreadPoolExecutor(max_workers=10) as executor:\n",
    "        with requests.Session() as session:\n",
    "            loop = asyncio.get_event_loop()\n",
    "            START_TIME = default_timer()\n",
    "            tasks = [\n",
    "                loop.run_in_executor(\n",
    "                    executor,\n",
    "                    request,\n",
    "                    *(session,i, params[i])\n",
    "                )\n",
    "                for i in range(10)\n",
    "            ]\n",
    "            for response in await asyncio.gather(*tasks):\n",
    "                pass\n",
    "\n",
    "\n",
    "if __name__ == \"__main__\":\n",
    "    loop = asyncio.get_event_loop()\n",
    "    future = asyncio.ensure_future(start_async_process())"
   ]
  },
  {
   "cell_type": "code",
   "execution_count": null,
   "id": "ce0066d4",
   "metadata": {},
   "outputs": [],
   "source": []
  }
 ],
 "metadata": {
  "kernelspec": {
   "display_name": "base",
   "language": "python",
   "name": "python3"
  },
  "language_info": {
   "codemirror_mode": {
    "name": "ipython",
    "version": 3
   },
   "file_extension": ".py",
   "mimetype": "text/x-python",
   "name": "python",
   "nbconvert_exporter": "python",
   "pygments_lexer": "ipython3",
   "version": "3.8.11"
  },
  "vscode": {
   "interpreter": {
    "hash": "1798979c5e0660aac8d4ca4f5466e36a93caabe5ee39c818426481678c67352d"
   }
  }
 },
 "nbformat": 4,
 "nbformat_minor": 5
}
